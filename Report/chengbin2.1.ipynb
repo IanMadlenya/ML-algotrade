{
 "cells": [
  {
   "cell_type": "markdown",
   "metadata": {},
   "source": [
    "## MTH 9899 Machine Learing Final Project,    May 2015 \n",
    "\n",
    "# Technical Trading Strategies using Linear Regression, Random Forest and Support Vector Machine\n",
    " \n",
    "Master of Financial Engineering Program, Baruch College   \n",
    "  \n",
    "  \n",
    "<h2><img src=\"http://mfe.baruch.cuny.edu/wp-content/uploads/2014/09/BCCUNYstacked_BLK.jpg\" align = \"center\" width=160></h2>  \n",
    "\n",
    "$$\n",
    "\\newcommand{\\bea}{\\begin{eqnarray}}\n",
    "\\newcommand{\\eea}{\\end{eqnarray}}\n",
    "\\newcommand{\\supp}{\\mathrm{supp}}\n",
    "\\newcommand{\\F}{\\mathcal{F} }\n",
    "\\newcommand{\\cF}{\\mathcal{F} }\n",
    "\\newcommand{\\E}{\\mathbb{E} }\n",
    "\\newcommand{\\Eof}[1]{\\mathbb{E}\\left[ #1 \\right]}\n",
    "\\def\\Cov{{ \\mbox{Cov} }}\n",
    "\\def\\Var{{ \\mbox{Var} }}\n",
    "\\newcommand{\\1}{\\mathbf{1} }\n",
    "\\newcommand{\\p}{\\partial}\n",
    "\\newcommand{\\PP}{\\mathbb{P} }\n",
    "\\newcommand{\\Pof}[1]{\\mathbb{P}\\left[ #1 \\right]}\n",
    "\\newcommand{\\QQ}{\\mathbb{Q} }\n",
    "\\newcommand{\\R}{\\mathbb{R} }\n",
    "\\newcommand{\\DD}{\\mathbb{D} }\n",
    "\\newcommand{\\HH}{\\mathbb{H} }\n",
    "\\newcommand{\\spn}{\\mathrm{span} }\n",
    "\\newcommand{\\cov}{\\mathrm{cov} }\n",
    "\\newcommand{\\HS}{\\mathcal{L}_{\\mathrm{HS}} }\n",
    "\\newcommand{\\Hess}{\\mathrm{Hess} }\n",
    "\\newcommand{\\trace}{\\mathrm{trace} }\n",
    "\\newcommand{\\LL}{\\mathcal{L} }\n",
    "\\newcommand{\\s}{\\mathcal{S} }\n",
    "\\newcommand{\\ee}{\\mathcal{E} }\n",
    "\\newcommand{\\ff}{\\mathcal{F} }\n",
    "\\newcommand{\\hh}{\\mathcal{H} }\n",
    "\\newcommand{\\bb}{\\mathcal{B} }\n",
    "\\newcommand{\\dd}{\\mathcal{D} }\n",
    "\\newcommand{\\g}{\\mathcal{G} }\n",
    "\\newcommand{\\half}{\\frac{1}{2} }\n",
    "\\newcommand{\\T}{\\mathcal{T} }\n",
    "\\newcommand{\\bit}{\\begin{itemize}}\n",
    "\\newcommand{\\eit}{\\end{itemize}}\n",
    "\\newcommand{\\beq}{\\begin{equation}}\n",
    "\\newcommand{\\eeq}{\\end{equation}}\n",
    "\\newcommand{\\tr}{\\mbox{tr}}\n",
    "$$\n"
   ]
  },
  {
   "cell_type": "markdown",
   "metadata": {},
   "source": [
    "### Group Member \n",
    "* Weiyi Chen, weiyi.chen@baruchmail.cuny.edu\n",
    "* Haotian Wu, haotian.wu@baruchmail.cuny.edu\n",
    "* Yifan Cui, yifan.cui@baruchmail.cuny.edu\n",
    "* Chengbin Wang, chengbin.wang@baruchmail.cuny.edu"
   ]
  },
  {
   "cell_type": "markdown",
   "metadata": {},
   "source": [
    "##1. Introduction\n",
    "\n",
    "###1.1 Abstract\n",
    "\n",
    "For this project, we intend to use different machine learning algorithms to modify traditional technical strategies, and backtest with research in cycle to find a good algorithm. \n",
    "\n",
    "####Detailed code and installation guide can be found in the following link in github\n",
    "https://github.com/MTH-9899-Machine-Learning/ML-algotrade\n",
    "\n",
    "####Machine Learning algorithms:\n",
    "* Linear Regression, http://scikit-learn.org/dev/modules/linear_model.html\n",
    "* Random Forests, http://scikit-learn.org/stable/modules/ensemble.html#forests-of-randomized-trees\n",
    "* Support Vector Machine, http://scikit-learn.org/stable/modules/svm.html\n",
    "\n",
    "####Technical Strategies:\n",
    "* Momentum, http://stockcharts.com/school/doku.php?id=chart_school:trading_strategies:moving_momentum\n",
    "* Relative Strength Index (RSI), http://stockcharts.com/school/doku.php?id=chart_school:technical_indicators:relative_strength_index_rsi"
   ]
  },
  {
   "cell_type": "markdown",
   "metadata": {},
   "source": [
    "###1.2 Data Set and Software: Quantopian\n",
    "\n",
    "Quantopian is our main research and backtesting platform, we research algorithmic trading ideas and explore curated financial data with the assistance of machine learning algorithm in this hosted research environment. Quantopian supports flexible data access, custom plotting, and post-hoc analysis on backtest.\n",
    "\n",
    "For convenience to verify our machine learning algorithms by cheating ('cheat' is like using today's data to forecast today), we also support local access to data from Yahoo, with event study and backtesting tools from Python module QuantSoftware Toolkit. In concludes,\n",
    "\n",
    "####Data input\n",
    "* Quantopian, or Yahoo\n",
    "* Equity Universe: adjusted close of S&P500 index equity component\n",
    "* Frequency: daily\n",
    "\n",
    "####Software\n",
    "* Quantopian, a platform to build, test, and execute trading algorithms.\n",
    "* QuantSoftware Toolkit, a modified Python-based open source software framework designed to support portfolio construction and management\n",
    "\n",
    "###1.3 Programming Language\n",
    "\n",
    "Python. The requirement of this course suggests Matlab, but we request for using Python because our preferred platform Quantopian is using Python and the Python module QSTK we will be using is also in Python.\n",
    "\n",
    "The main module we will be using is scipy-learn (http://scikit-learn.org/stable/supervised_learning.html#supervised-learning), which contains implemented Machine Learning algorithms.\n",
    "\n",
    "###1.4 Books and Papers reference\n",
    "\n",
    "* Alpaydin, Ethem. Introduction to machine learning. MIT press, 2014.\n",
    "* Aronson, David. Evidence-based technical analysis: applying the scientific method and statistical inference to trading signals. Vol. 274. John Wiley & Sons, 2011."
   ]
  },
  {
   "cell_type": "markdown",
   "metadata": {},
   "source": [
    "##2. Background Knowledge\n",
    "\n",
    "###2.1 Machine Learning algorithms\n",
    "####2.1.1 Linear Regression (OLS)\n",
    "\n",
    "LinearRegression fits a linear model with coefficients w = (w_1, ..., w_p) to minimize the residual sum of squares between the observed responses in the dataset, and the responses predicted by the linear approximation.\n",
    "\n",
    "<img src=\"2.1.1-1.jpg\" align = \"center\" height=\"600\" width=\"600\"> \n",
    "\n",
    "<img src=\"2.1.1-2.jpg\" align = \"center\" height=\"800\" width=\"800\"> \n"
   ]
  },
  {
   "cell_type": "markdown",
   "metadata": {},
   "source": [
    "####2.1.2 Random Forests\n",
    "\n",
    "ensemble learning method (Unsupervised learning)\n",
    "the driving principle is to build several estimators independently and then to average their predictions. On average, the combined estimator is usually better than any of the single base estimator because its variance is reduced.\n",
    "\n",
    "<img src=\"2.1.2-0.jpg\" align = \"center\" height=\"600\" width=\"600\"> \n",
    "\n",
    "<img src=\"2.1.2-1.jpg\" align = \"center\" height=\"800\" width=\"800\"> \n",
    "\n",
    "<img src=\"2.1.2-3.jpg\" align = \"center\" height=\"800\" width=\"800\"> \n",
    "\n",
    "<img src=\"2.1.2-4.jpg\" align = \"center\" height=\"800\" width=\"800\"> \n",
    "\n"
   ]
  },
  {
   "cell_type": "markdown",
   "metadata": {},
   "source": [
    "####2.1.3 Support Vector Machine\n",
    "\n",
    "Supervised methods\n",
    "\n",
    "<img src=\"2.1.3-1.jpg\" align = \"center\" height=\"500\" width=\"500\"> \n",
    "\n",
    "<img src=\"2.1.3-2.jpg\" align = \"center\" height=\"400\" width=\"400\"> \n",
    "\n",
    "\n",
    "Goal: \n",
    "<img src=\"2.1.3-4.jpg\" align = \"center\" height=\"400\" width=\"400\"> \n",
    "\n",
    "<img src=\"2.1.3-5.jpg\" align = \"center\" height=\"800\" width=\"800\"> \n",
    "\n"
   ]
  },
  {
   "cell_type": "markdown",
   "metadata": {},
   "source": [
    "###2.2 Technical Strategies\n",
    "####2.2.1 Momentum\n",
    "Strategy\n",
    "\n",
    "Buy Signal:\n",
    "\n",
    "1. Moving averages show a bullish trading bias with 20-day SMA trading above the 150-day SMA.\n",
    "2. Stochastic Oscillator moves below 20 to signal a pullback.\n",
    "3. MACD-Histogram moves into positive territory to signal an upturn after the pullback.\n",
    "\n",
    "http://stockcharts.com/school/doku.php?id=chart_school:trading_strategies:moving_momentum"
   ]
  },
  {
   "cell_type": "markdown",
   "metadata": {},
   "source": [
    "####2.2.2 Relative Strength Index (RSI)\n",
    "Calculation\n",
    "\n",
    "\n",
    "                  100\n",
    "    RSI = 100 - --------\n",
    "                 1 + RS\n",
    "\n",
    "    RS = Average Gain / Average Loss\n",
    "\n",
    "\n",
    "http://stockcharts.com/school/doku.php?id=chart_school:technical_indicators:relative_strength_index_rsi"
   ]
  },
  {
   "cell_type": "markdown",
   "metadata": {},
   "source": [
    "##3. Results\n",
    "\n",
    "###3.1 Momentum\n",
    "####Linear Regression\n",
    "<img src=\"LR_momentum.jpg\" align = \"center\" >  \n",
    "\n",
    "####Random Forest\n",
    "<img src=\"random_forest_momentum.jpg\" align = \"center\" >\n",
    "\n",
    "####Support Vector Machine\n",
    "<img src=\"svm_svc_momentum.jpg\" align = \"center\" >"
   ]
  },
  {
   "cell_type": "markdown",
   "metadata": {},
   "source": [
    "###3.2 Relative Strength Index (RSI)\n",
    "####Linear Regression\n",
    "<img src=\"LR_RSI.jpg\" align = \"center\" >  \n",
    "\n",
    "####Random Forest\n",
    "<img src=\"random_forest_RSI.jpg\" align = \"center\" >\n",
    "\n",
    "####Support Vector Machine\n",
    "<img src=\"svm_svc_RSI.jpg\" align = \"center\" >"
   ]
  },
  {
   "cell_type": "markdown",
   "metadata": {},
   "source": [
    "###3.3 Momentum with RSI\n",
    "####Linear Regression\n",
    "<img src=\"LR_momentum_RSI.jpg\">  \n",
    "\n",
    "####Random Forest\n",
    "<img src=\"random_forest_momentum_RSI.jpg\" align = \"center\" >\n",
    "\n",
    "####Support Vector Machine\n",
    "<img src=\"svm_svc_momentum_RSI.jpg\" align = \"center\" >"
   ]
  },
  {
   "cell_type": "markdown",
   "metadata": {},
   "source": [
    "##4. Conclusion"
   ]
  }
 ],
 "metadata": {
  "kernelspec": {
   "display_name": "Python 2",
   "language": "python",
   "name": "python2"
  },
  "language_info": {
   "codemirror_mode": {
    "name": "ipython",
    "version": 2
   },
   "file_extension": ".py",
   "mimetype": "text/x-python",
   "name": "python",
   "nbconvert_exporter": "python",
   "pygments_lexer": "ipython2",
   "version": "2.7.9"
  }
 },
 "nbformat": 4,
 "nbformat_minor": 0
}
