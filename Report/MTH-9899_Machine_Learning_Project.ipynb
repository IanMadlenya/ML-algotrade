{
 "cells": [
  {
   "cell_type": "markdown",
   "metadata": {},
   "source": [
    "## MTH 9899 Machine Learing Final Project,    May 2015 \n",
    "\n",
    "# Trading Strategies Using LR, RF and SVM\n",
    " \n",
    "Master of Financial Engineering Program, Baruch College   \n",
    "  \n",
    "  \n",
    "<img src=\"http://mfe.baruch.cuny.edu/wp-content/uploads/2014/09/BCCUNYstacked_BLK.jpg\" align = \"left\" width=160>  \n",
    "\n",
    "$$\n",
    "\\newcommand{\\bea}{\\begin{eqnarray}}\n",
    "\\newcommand{\\eea}{\\end{eqnarray}}\n",
    "\\newcommand{\\supp}{\\mathrm{supp}}\n",
    "\\newcommand{\\F}{\\mathcal{F} }\n",
    "\\newcommand{\\cF}{\\mathcal{F} }\n",
    "\\newcommand{\\E}{\\mathbb{E} }\n",
    "\\newcommand{\\Eof}[1]{\\mathbb{E}\\left[ #1 \\right]}\n",
    "\\def\\Cov{{ \\mbox{Cov} }}\n",
    "\\def\\Var{{ \\mbox{Var} }}\n",
    "\\newcommand{\\1}{\\mathbf{1} }\n",
    "\\newcommand{\\p}{\\partial}\n",
    "\\newcommand{\\PP}{\\mathbb{P} }\n",
    "\\newcommand{\\Pof}[1]{\\mathbb{P}\\left[ #1 \\right]}\n",
    "\\newcommand{\\QQ}{\\mathbb{Q} }\n",
    "\\newcommand{\\R}{\\mathbb{R} }\n",
    "\\newcommand{\\DD}{\\mathbb{D} }\n",
    "\\newcommand{\\HH}{\\mathbb{H} }\n",
    "\\newcommand{\\spn}{\\mathrm{span} }\n",
    "\\newcommand{\\cov}{\\mathrm{cov} }\n",
    "\\newcommand{\\HS}{\\mathcal{L}_{\\mathrm{HS}} }\n",
    "\\newcommand{\\Hess}{\\mathrm{Hess} }\n",
    "\\newcommand{\\trace}{\\mathrm{trace} }\n",
    "\\newcommand{\\LL}{\\mathcal{L} }\n",
    "\\newcommand{\\s}{\\mathcal{S} }\n",
    "\\newcommand{\\ee}{\\mathcal{E} }\n",
    "\\newcommand{\\ff}{\\mathcal{F} }\n",
    "\\newcommand{\\hh}{\\mathcal{H} }\n",
    "\\newcommand{\\bb}{\\mathcal{B} }\n",
    "\\newcommand{\\dd}{\\mathcal{D} }\n",
    "\\newcommand{\\g}{\\mathcal{G} }\n",
    "\\newcommand{\\half}{\\frac{1}{2} }\n",
    "\\newcommand{\\T}{\\mathcal{T} }\n",
    "\\newcommand{\\bit}{\\begin{itemize}}\n",
    "\\newcommand{\\eit}{\\end{itemize}}\n",
    "\\newcommand{\\beq}{\\begin{equation}}\n",
    "\\newcommand{\\eeq}{\\end{equation}}\n",
    "\\newcommand{\\tr}{\\mbox{tr}}\n",
    "$$\n"
   ]
  },
  {
   "cell_type": "markdown",
   "metadata": {},
   "source": [
    "### Group Member \n",
    "* Weiyi Chen, weiyi.chen@baruchmail.cuny.edu\n",
    "* Haotian Wu, haotian.wu@baruchmail.cuny.edu\n",
    "* Yifan Cui, yifan.cui@baruchmail.cuny.edu\n",
    "* Chengbin Wang, chengbin.wang@baruchmail.cuny.edu"
   ]
  },
  {
   "cell_type": "markdown",
   "metadata": {},
   "source": [
    "##1. Introduction\n",
    "\n",
    "###1.1 Abstract\n",
    "\n",
    "For this project, we intend to use different machine learning algorithms to modify traditional technical strategies, and backtest with research in cycle to find a good algorithm. \n",
    "\n",
    "####Detailed code and installation guide can be found in the following link in github\n",
    "https://github.com/MTH-9899-Machine-Learning/ML-algotrade\n",
    "\n",
    "####Machine Learning algorithms:\n",
    "* Linear Regression, http://scikit-learn.org/dev/modules/linear_model.html\n",
    "* Random Forests, http://scikit-learn.org/stable/modules/ensemble.html#forests-of-randomized-trees\n",
    "* Support Vector Machine, http://scikit-learn.org/stable/modules/svm.html\n",
    "\n",
    "####Technical Strategies:\n",
    "* Momentum, http://stockcharts.com/school/doku.php?id=chart_school:trading_strategies:moving_momentum\n",
    "* Relative Strength Index (RSI), http://stockcharts.com/school/doku.php?id=chart_school:technical_indicators:relative_strength_index_rsi\n",
    "\n",
    "\n"
   ]
  },
  {
   "cell_type": "markdown",
   "metadata": {},
   "source": [
    "###1.2 Data Set and Software: Quantopian\n",
    "\n",
    "Quantopian is our main research and backtesting platform, we research algorithmic trading ideas and explore curated financial data with the assistance of machine learning algorithm in this hosted research environment. Quantopian supports flexible data access, custom plotting, and post-hoc analysis on backtest.\n",
    "\n",
    "For convenience to verify our machine learning algorithms by cheating ('cheat' is like using today's data to forecast today), we also support local access to data from Yahoo, with event study and backtesting tools from Python module QuantSoftware Toolkit. In concludes,\n",
    "\n",
    "####Data input\n",
    "* Quantopian, or Yahoo\n",
    "* Equity Universe: adjusted close of S&P500 index equity component\n",
    "* Frequency: daily\n",
    "\n",
    "####Software\n",
    "* Quantopian, a platform to build, test, and execute trading algorithms.\n",
    "* QuantSoftware Toolkit, a modified Python-based open source software framework designed to support portfolio construction and management\n",
    "\n",
    "###1.3 Programming Language\n",
    "\n",
    "Python.\n",
    "\n",
    "The main module we will be using is scipy-learn (http://scikit-learn.org/stable/supervised_learning.html#supervised-learning), which contains implemented Machine Learning algorithms.\n",
    "\n",
    "###1.4 Books and Papers reference\n",
    "\n",
    "* Alpaydin, Ethem. Introduction to machine learning. MIT press, 2014.\n",
    "* Aronson, David. Evidence-based technical analysis: applying the scientific method and statistical inference to trading signals. Vol. 274. John Wiley & Sons, 2011."
   ]
  },
  {
   "cell_type": "markdown",
   "metadata": {},
   "source": [
    "##2. Background Knowledge\n",
    "\n",
    "###2.1 Machine Learning algorithms\n",
    "####2.1.1 Linear Regression (OLS)\n",
    "\n",
    "LinearRegression fits a linear model with coefficients $w = (w_1, ..., w_p)$ to minimize the residual sum of squares between the observed responses in the dataset, and the responses predicted by the linear approximation.\n",
    "\n",
    "$$ \\min_{\\omega} ||X\\omega - y ||^2$$ \n"
   ]
  },
  {
   "cell_type": "code",
   "execution_count": 9,
   "metadata": {
    "collapsed": false
   },
   "outputs": [
    {
     "data": {
      "text/plain": [
       "array([ 0.5,  0.5])"
      ]
     },
     "execution_count": 9,
     "metadata": {},
     "output_type": "execute_result"
    }
   ],
   "source": [
    "from sklearn import linear_model\n",
    "clf = linear_model.LinearRegression()\n",
    "clf.fit ([[0, 0], [1, 1], [2, 2]], [0, 1, 2])\n",
    "# LinearRegression(copy_X=True, fit_intercept=True, n_jobs=1, normalize=False)\n",
    "clf.coef_"
   ]
  },
  {
   "cell_type": "markdown",
   "metadata": {},
   "source": [
    "####2.1.2 Random Forests\n",
    "\n",
    "Ensemble learning method: the driving principle is to build several estimators independently and then to average their predictions. On average, the combined estimator is usually better than any of the single base estimator because its variance is reduced.\n",
    "\n",
    "<img src=\"2.1.2-0.jpg\" align = \"center\" width=\"400\"> \n",
    "\n",
    "<img src=\"2.1.2-1.jpg\" align = \"center\" width=\"600\"> \n",
    "\n",
    "<img src=\"2.1.2-3.jpg\" align = \"center\" width=\"600\"> \n"
   ]
  },
  {
   "cell_type": "code",
   "execution_count": 12,
   "metadata": {
    "collapsed": false
   },
   "outputs": [
    {
     "data": {
      "text/plain": [
       "array([0])"
      ]
     },
     "execution_count": 12,
     "metadata": {},
     "output_type": "execute_result"
    }
   ],
   "source": [
    "from sklearn.ensemble import RandomForestClassifier\n",
    "X = [[0, 0], [1, 1]]\n",
    "Y = [0, 1]\n",
    "clf = RandomForestClassifier(n_estimators=10)\n",
    "clf = clf.fit(X, Y)\n",
    "\n",
    "clf.predict([0,0])"
   ]
  },
  {
   "cell_type": "markdown",
   "metadata": {},
   "source": [
    "####2.1.3 Support Vector Machine\n",
    "\n",
    "Supervised methods\n",
    "\n",
    "<img src=\"2.1.3-1.jpg\" align = \"center\" width=\"400\"> \n",
    "\n",
    "<img src=\"2.1.3-2.jpg\" align = \"center\" width=\"300\"> \n",
    "\n",
    "\n",
    "Goal: \n",
    "<img src=\"2.1.3-4.jpg\" align = \"center\" width=\"300\"> \n"
   ]
  },
  {
   "cell_type": "code",
   "execution_count": 14,
   "metadata": {
    "collapsed": false
   },
   "outputs": [
    {
     "data": {
      "text/plain": [
       "array([0])"
      ]
     },
     "execution_count": 14,
     "metadata": {},
     "output_type": "execute_result"
    }
   ],
   "source": [
    "from sklearn import svm\n",
    "X = [[0, 0], [1, 1]]\n",
    "y = [0, 1]\n",
    "clf = svm.SVC()\n",
    "clf.fit(X, y)  \n",
    "\n",
    "# SVC(C=1.0, cache_size=200, class_weight=None, coef0=0.0, degree=3,\n",
    "# gamma=0.0, kernel='rbf', max_iter=-1, probability=False, random_state=None,\n",
    "# shrinking=True, tol=0.001, verbose=False)\n",
    "\n",
    "clf.predict([0.1,0.1])"
   ]
  },
  {
   "cell_type": "markdown",
   "metadata": {},
   "source": [
    "###2.2 Technical Strategies\n",
    "####2.2.1 Momentum\n",
    "Strategy\n",
    "\n",
    "Buy Signal:\n",
    "\n",
    "1. Moving averages show a bullish trading bias with 20-day SMA trading above the 150-day SMA.\n",
    "2. Stochastic Oscillator moves below 20 to signal a pullback.\n",
    "3. MACD-Histogram moves into positive territory to signal an upturn after the pullback.\n",
    "\n",
    "Sell Signal:\n",
    "\n",
    "1. Moving averages show a bearish trading bias with the 20-day SMA trading below the 150-day SMA.\n",
    "2. Stochastic Oscillator moves above 80 to signal a bounce.\n",
    "3. MACD-Histogram moves into negative territory to signal a downturn after the bounce.\n"
   ]
  },
  {
   "cell_type": "markdown",
   "metadata": {},
   "source": [
    "##### (a) Simple Moving Average (SMA)\n",
    "\n",
    "Moving averages are trend-following indicators that lag price. This means the actual trend changes before the moving averages generate a signal. Many traders are turned off by this lag, but this does not make them totally ineffective. Moving averages smooth prices and provide chartists with a cleaner price plot, which makes it easier to identify the general trend.\n",
    "\n",
    "This strategy employs two moving averages to define the trading bias. The bias is bullish when the shorter-moving average moves above the longer moving average. The bias is bearish when the shorter-moving average moves below the longer moving average. While chartists can use any combination of moving averages, this article uses the 20-day SMA and the 150-day SMA. The example below shows Baxter International (BAX) moving from a bullish trading bias to a bearish trading bias as the 20-day SMA moved below the 150-day SMA in mid August.\n",
    "\n",
    "<img src=\"momentum_signals.png\" align = \"center\" > "
   ]
  },
  {
   "cell_type": "markdown",
   "metadata": {},
   "source": [
    "##### (b) Stochastic Oscillator\n",
    "\n",
    "\n",
    "The second part of this trading strategy uses the Stochastic Oscillator to identify correction. As a bound oscillator that fluctuations between 0 and 100, the Stochastic Oscillator is ideal for spotting short-term pullbacks or bounces. A move below 20 signals a pullback in prices, while a move above 80 signals a bounce in prices.\n",
    "\n",
    "$$\n",
    "\\begin{eqnarray}\n",
    "\\%K &=& 100[(C - L14)/(H14 - L14)] \\\\\n",
    "C &=& the\\ most\\ recent\\ closing\\ price \\\\\n",
    "L14 &=& the\\ low\\ of\\ the\\ 14\\ previous\\ trading\\ sessions \\\\\n",
    "H14 &=&the\\ highest\\ price\\ traded\\ during\\ the\\ same\\ 14\\ day\\ period.\\\\\n",
    "\\%D &= &3-period\\ moving\\ average\\ of\\ \\%K \n",
    "\\end{eqnarray}\n",
    "$$\n",
    "\n",
    "\n",
    "The theory behind this indicator is that in an upward-trending market, prices tend to close near their high, and during a downward-trending market, prices tend to close near their low. Transaction signals occur when the %K crosses through a three-period moving average called the \"%D\".\n",
    "\n",
    "\n",
    "\n",
    "<img src=\"momentum_signals.png\" align = \"center\" > "
   ]
  },
  {
   "cell_type": "markdown",
   "metadata": {},
   "source": [
    "##### (c) MACD-Histogram\n",
    "\n",
    "\n",
    "The third part of this trading strategy uses the MACD-Histogram to identify upturns and downturns in prices. The MACD-Histogram measures the difference between MACD and its signal line. The indicator is positive when MACD is above its signal line and negative when MACD is below its signal line. The MACD-Histogram turns positive when prices turn up and turns negative when prices turn down.\n",
    "\n",
    "\n",
    "\n",
    "<img src=\"momentum_signals.png\" align = \"center\" > "
   ]
  },
  {
   "cell_type": "markdown",
   "metadata": {},
   "source": [
    "####2.2.2 Relative Strength Index (RSI)\n",
    "\n",
    "Definition\n",
    "\n",
    "Relative Strength Index (RSI) is a momentum oscillator that measures the speed and change of price movements. RSI oscillates between zero and 100. Traditionally, and according to Wilder, RSI is considered overbought when above 70 and oversold when below 30. \n",
    "\n",
    "Calculation\n",
    "\n",
    "                  100\n",
    "    RSI = 100 - --------\n",
    "                 1 + RS\n",
    "\n",
    "    RS = Average Gain / Average Loss\n",
    "\n",
    "To simplify the calculation explanation, RSI has been broken down into its basic components: RS, Average Gain and Average Loss. This RSI calculation is based on 14 periods, which is the default suggested by Wilder in his book. Losses are expressed as positive values, not negative values.\n",
    "\n",
    "The very first calculations for average gain and average loss are simple 14 period averages.\n",
    "\n",
    "$$\n",
    "\\begin{eqnarray}\n",
    "\\mbox{Average Gain} &=& \\left[(\\mbox{previous Average Gain} \\times 13 + \\mbox{current Gain}\\right] / 14. \\\\\n",
    "\\mbox{Average Loss} &=& \\left[(\\mbox{previous Average Loss} \\times 13 + \\mbox{current Loss}\\right] / 14.\\\\\n",
    "\\end{eqnarray}\n",
    "$$\n",
    "\n",
    "\n",
    "Signals can also be generated by looking for divergences, failure swings and centerline crossovers. RSI can also be used to identify the general trend.\n",
    "\n",
    "\n",
    "<img src=\"RSI_example.png\" align = \"center\" > "
   ]
  },
  {
   "cell_type": "markdown",
   "metadata": {},
   "source": [
    "## 3. Implementation & Results"
   ]
  },
  {
   "cell_type": "code",
   "execution_count": null,
   "metadata": {
    "collapsed": true
   },
   "outputs": [],
   "source": [
    "# python imports\n",
    "from collections import deque\n",
    "import numpy as np\n",
    "\n",
    "# scikit-learn imports\n",
    "from sklearn.ensemble import RandomForestClassifier\n",
    "from sklearn import linear_model\n",
    "from sklearn import svm\n",
    "\n",
    "def initialize(context):\n",
    "    ''' \n",
    "    @summary: standard initialization function in Quantipian \n",
    "    @param context: a container to save data\n",
    "    '''\n",
    "\n",
    "    # Security universe setting, SPY\n",
    "    context.security = sid(8554)\n",
    "\n",
    "    # Machine Learning algo selection    \n",
    "    context.classifier = linear_model.LinearRegression()\n",
    "    #context.classifier = RandomForestClassifier()\n",
    "    #context.classifier = svm.SVC()\n",
    "    \n",
    "    # ML setting, lookback period and learning period\n",
    "    context.window_length = 20\n",
    "    context.learning_period = 100\n",
    "    \n",
    "    # Other containers as cache\n",
    "    context.recent_prices = []    # Stores recent prices\n",
    "    context.X = deque(maxlen=500) # Independent, or input variables\n",
    "    context.Y = deque(maxlen=500) # Dependent, or output variable\n",
    "    context.prediction = 0        # Stores most recent prediction\n",
    "    \n",
    "def feat_momentum(prices, lookback):\n",
    "    ''' momentum feature '''\n",
    "    prices = np.array(prices)\n",
    "    returns = prices[1:]/prices[:-1] - 1\n",
    "    momentum = sum(returns[-lookback:])\n",
    "    return momentum\n",
    "\n",
    "def feat_rsi(prices, lookback):\n",
    "    ''' RSI feature '''\n",
    "    prices = np.array(prices)\n",
    "    deltas = prices[1:] - prices[:-1]\n",
    "    deltasUp = sum(x > 0 for x in deltas)\n",
    "    deltasDown = sum(x < 0 for x in deltas)\n",
    "    \n",
    "    relative_strength = deltasUp / deltasDown\n",
    "    rsi = 100. - 100./(1.+relative_strength)\n",
    "    return rsi\n",
    "\n",
    "def feat_bollinger(prices, lookback):\n",
    "    ''' Bollinger band feature '''\n",
    "    prices = np.array(prices)\n",
    "    avg = np.mean(prices)\n",
    "    std = np.std(prices)\n",
    "    return (prices[-1]-avg)/(2.0*std)\n",
    "  \n",
    "def handle_data(context, data):\n",
    "    ''' \n",
    "    @summary: main part to define trades, which is run every backtesting day\n",
    "    @param context: container including all initialization data\n",
    "    @param data: dict to read equity data\n",
    "    ''' \n",
    "    \n",
    "    # Update the recent prices\n",
    "    context.recent_prices.append(data[context.security].price)\n",
    "    \n",
    "    # If there's enough recent price data\n",
    "    if len(context.recent_prices) > context.window_length+1: \n",
    "        \n",
    "        # Define independent and dependent variables\n",
    "        context.X.append([\n",
    "                feat_momentum(context.recent_prices[:-1], context.window_length),\n",
    "                feat_rsi(context.recent_prices[:-1], context.window_length), \n",
    "                feat_bollinger(context.recent_prices[:-1], context.window_length)])\n",
    "        context.Y.append(context.recent_prices[-1]/context.recent_prices[-2]-1 > 0)\n",
    "        \n",
    "        # Wait until the there is enough data to make a good model\n",
    "        if len(context.Y) >= context.learning_period: \n",
    "\n",
    "            # Fit model and predict tomorrow's trend\n",
    "            context.classifier.fit(context.X, context.Y)\n",
    "            context.prediction = context.classifier.predict([\n",
    "                    feat_momentum(context.recent_prices, context.window_length),\n",
    "                    feat_rsi(context.recent_prices, context.window_length),\n",
    "                    feat_bollinger(context.recent_prices, context.window_length)]) \n",
    "            \n",
    "            # If prediction = 1, implies up, buy all shares\n",
    "            # If prediction = 0, implies down, sell all shares\n",
    "            order_target_percent(context.security, context.prediction)\n",
    "            record(prediction=int(context.prediction))"
   ]
  },
  {
   "cell_type": "markdown",
   "metadata": {},
   "source": [
    "###3.1 Momentum\n",
    "####Linear Regression\n",
    "<img src=\"LR_momentum.png\" align = \"center\" >  \n",
    "\n",
    "####Random Forest\n",
    "<img src=\"random_forest_momentum.png\" align = \"center\" >\n",
    "\n",
    "####Support Vector Machine\n",
    "<img src=\"svm_svc_momentum.png\" align = \"center\" >"
   ]
  },
  {
   "cell_type": "markdown",
   "metadata": {},
   "source": [
    "###3.2 Relative Strength Index (RSI)\n",
    "####Linear Regression\n",
    "<img src=\"LR_RSI.png\" align = \"center\" >  \n",
    "\n",
    "####Random Forest\n",
    "<img src=\"random_forest_momentum_RSI.png\" align = \"center\" >\n",
    "\n",
    "####Support Vector Machine\n",
    "<img src=\"random_forest_rsi.png\" align = \"center\" >"
   ]
  },
  {
   "cell_type": "markdown",
   "metadata": {},
   "source": [
    "###3.3 Momentum with RSI\n",
    "####Linear Regression\n",
    "<img src=\"LR_momentum_RSI.png\">  \n",
    "\n",
    "####Random Forest\n",
    "<img src=\"random_forest_rsi.png\" align = \"center\" >\n",
    "\n",
    "####Support Vector Machine\n",
    "<img src=\"svm_svc_momentum_RSI.png\" align = \"center\" >"
   ]
  },
  {
   "cell_type": "markdown",
   "metadata": {},
   "source": [
    "## 4. Conclusion\n",
    "\n",
    "#### Sharpe Ratio:\n",
    "\n",
    "| Sharpe Ratio           | Momentum | RSI  | Momentum & RSI |\n",
    "|:----------------------:|:--------:|:----:|:--------------:|\n",
    "| Linear Regression      | 1.32     | 1.34 | 1.35           |\n",
    "| Random Forest          | -0.06    | 0.16 | 1.93           |\n",
    "| Support Vector Machine | 1.87     | 1.93 | 1.93           |\n",
    "\n",
    "#### Learing Algorithms: \n",
    "\n",
    "`Support Vector Machine` > `Linear Regression` > `Random Forests`\n",
    "\n",
    "When comparing learning algorithms, SVM works the best, LR second and better than Random Forests. Though both are machine learning algorithms, SVM works better than Random Forests is mainly because our training dataset is small. Specifically, the initial learning period is 100 days, and the maximum record training dataset size is 500. And we only use 1 or 2-dimension features. To train a good Random Forests learner, it requires much more than that. SVM can still work well even with small dataset, so it performs the best.\n",
    "\n",
    "Linear regression does not have much predictive value, therefore it performs almost the same as the benchmark itself, though a little bit better in combined strategy. \n",
    "\n",
    "#### Trading Strategies: \n",
    "\n",
    "`Momentum + RSI` > `RSI` > `Momentum`\n",
    "\n",
    "When comparing trading strategies, we can see we reach the purpose of our project, combined strategies learned by Machine learning algorithms can construct a strategy by itself using different individual indicators. \n",
    "\n",
    "- When using Linear Regression as the learner, the difference is very small, as we mentioned in Learning Algorithms part, Linear Regression does not have much predictive value, therefore there are not many changes.\n",
    "\n",
    "- When using Random Forests, we can see it does not make any sense when it applies to Momentum / RSI individually, the reason is mainly we have not used enough data to feed it. But maybe using a higher dimension in Momentum & RSI strategy, it works much better and successfully reach the best classification, as it indicates 1.93 is as good as the Sharpe Ratio of SVM on this strategy.\n",
    "\n",
    "- SVM gives the most direct result. SVM is a nice algorithm, though a little bit slow, it classifies very well and helps to turn Momentum / RSI / Momentum & RSI into better strategy. "
   ]
  },
  {
   "cell_type": "markdown",
   "metadata": {},
   "source": [
    "\n",
    "\n",
    "\n",
    "\n",
    "\n",
    "\n",
    "\n",
    "\n",
    "\n",
    "\n",
    "\n",
    "\n",
    "\n",
    "\n",
    "\n",
    "\n",
    "\n",
    "\n",
    "\n",
    "\n",
    "\n",
    "\n",
    "\n",
    "\n",
    "\n",
    "\n",
    "\n",
    "\n",
    "\n",
    "\n"
   ]
  }
 ],
 "metadata": {
  "kernelspec": {
   "display_name": "Python 2",
   "language": "python",
   "name": "python2"
  },
  "language_info": {
   "codemirror_mode": {
    "name": "ipython",
    "version": 2
   },
   "file_extension": ".py",
   "mimetype": "text/x-python",
   "name": "python",
   "nbconvert_exporter": "python",
   "pygments_lexer": "ipython2",
   "version": "2.7.9"
  }
 },
 "nbformat": 4,
 "nbformat_minor": 0
}
